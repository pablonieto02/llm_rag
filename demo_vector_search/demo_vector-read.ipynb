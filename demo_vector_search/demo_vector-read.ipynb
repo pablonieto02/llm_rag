{
 "cells": [
  {
   "cell_type": "code",
   "execution_count": 1,
   "id": "10820c9a-5814-452b-b634-605f06c9de2c",
   "metadata": {},
   "outputs": [],
   "source": [
    "#%pip install -r requirements.txt"
   ]
  },
  {
   "cell_type": "code",
   "execution_count": 2,
   "id": "510dda4b-7403-46f2-a865-a9a836f1cf01",
   "metadata": {},
   "outputs": [],
   "source": [
    "from google.cloud.aiplatform.matching_engine import MatchingEngineIndex\n",
    "from vertexai.language_models import TextEmbeddingModel\n",
    "from google.cloud.aiplatform import matching_engine\n",
    "from google.cloud import aiplatform\n",
    "\n",
    "DEPLOYED_INDEX_ID = f\"demo_rag_product_embs_deployed_3cb3e\"\n",
    "\n",
    "# Set variables for the current deployed index.\n",
    "API_ENDPOINT=\"1008191429.us-central1-707490254491.vdb.vertexai.goog\"\n",
    "INDEX_ENDPOINT=\"projects/707490254491/locations/us-central1/indexEndpoints/22196940741541888\""
   ]
  },
  {
   "cell_type": "code",
   "execution_count": 3,
   "id": "5b1b7212-7086-43f7-8178-521be69d727a",
   "metadata": {},
   "outputs": [],
   "source": [
    "def generate_txt_embeddings(sentences):\n",
    "    model = TextEmbeddingModel.from_pretrained('text-embedding-004')\n",
    "    embeddings = model.get_embeddings(sentences)\n",
    "    return [embedding.values for embedding in embeddings]"
   ]
  },
  {
   "cell_type": "code",
   "execution_count": 5,
   "id": "d5d428d8-9d0e-4302-b76f-135cd7d616df",
   "metadata": {},
   "outputs": [],
   "source": [
    "# Create the index endpoint instance from an existing endpoint.\n",
    "my_index_endpoint = aiplatform.MatchingEngineIndexEndpoint(\n",
    "    index_endpoint_name=INDEX_ENDPOINT\n",
    ")"
   ]
  },
  {
   "cell_type": "code",
   "execution_count": 9,
   "id": "ab08d7b7-fe06-4823-835a-ec85783e4691",
   "metadata": {},
   "outputs": [
    {
     "name": "stdout",
     "output_type": "stream",
     "text": [
      "[]\n"
     ]
    }
   ],
   "source": [
    "sentences = [\"itau\"]\n",
    "embeddings_query = generate_txt_embeddings(sentences)\n",
    "\n",
    "response = my_index_endpoint.find_neighbors(\n",
    "    deployed_index_id = DEPLOYED_INDEX_ID,\n",
    "    queries = embeddings_query,\n",
    "    num_neighbors = 10\n",
    ")\n",
    "\n",
    "if response:\n",
    "    for idx, neighbor in enumerate(response[0]):\n",
    "        print(f\"{neighbor.distance:.2f} {product_names[neighbor.id]}\")\n",
    "else:\n",
    "    print(response)"
   ]
  }
 ],
 "metadata": {
  "environment": {
   "kernel": "conda-base-py",
   "name": "workbench-notebooks.m127",
   "type": "gcloud",
   "uri": "us-docker.pkg.dev/deeplearning-platform-release/gcr.io/workbench-notebooks:m127"
  },
  "kernelspec": {
   "display_name": "Python 3 (ipykernel) (Local)",
   "language": "python",
   "name": "conda-base-py"
  },
  "language_info": {
   "codemirror_mode": {
    "name": "ipython",
    "version": 3
   },
   "file_extension": ".py",
   "mimetype": "text/x-python",
   "name": "python",
   "nbconvert_exporter": "python",
   "pygments_lexer": "ipython3",
   "version": "3.10.16"
  }
 },
 "nbformat": 4,
 "nbformat_minor": 5
}
