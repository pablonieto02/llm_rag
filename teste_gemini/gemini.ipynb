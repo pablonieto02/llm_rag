{
 "cells": [
  {
   "cell_type": "code",
   "execution_count": 2,
   "id": "6d7fcb5a-e341-49d7-a67b-f1445ec3c7ea",
   "metadata": {},
   "outputs": [],
   "source": [
    "#%pip install vertexai"
   ]
  },
  {
   "cell_type": "code",
   "execution_count": 1,
   "id": "1b38136d-bd69-4a83-8ba9-d6d2b3eded77",
   "metadata": {},
   "outputs": [],
   "source": [
    "import vertexai\n",
    "from vertexai.preview.generative_models import GenerativeModel, Image\n",
    "\n",
    "PROJECT_ID = \"estudo-ia-439813\"\n",
    "REGION = \"us-central1\"\n",
    "vertexai.init(project=PROJECT_ID, location=REGION)"
   ]
  },
  {
   "cell_type": "code",
   "execution_count": 3,
   "id": "ba2365c8-bf2e-42f2-b542-687b5b96e5f0",
   "metadata": {},
   "outputs": [
    {
     "name": "stdout",
     "output_type": "stream",
     "text": [
      "A imagem mostra uma rocha solitária no mar. A rocha é coberta por vegetação verde exuberante na parte superior e é de cor marrom e cinza na base. O mar é calmo e a água é azul-esverdeada. O céu está nublado e o clima parece calmo.\n"
     ]
    }
   ],
   "source": [
    "IMAGE_FILE = \"lonely-island-4k-2g.jpg\"\n",
    "image = Image.load_from_file(IMAGE_FILE)\n",
    "\n",
    "generative_multimodal_model = GenerativeModel(\"gemini-1.5-flash-002\")\n",
    "response = generative_multimodal_model.generate_content([\"O que tem na imagem?\", image])\n",
    "print(response.text)"
   ]
  },
  {
   "cell_type": "code",
   "execution_count": 4,
   "id": "4e805418-f310-4449-ab6d-2523be3c7f2a",
   "metadata": {},
   "outputs": [
    {
     "name": "stdout",
     "output_type": "stream",
     "text": [
      "A imagem mostra um pequeno afloramento rochoso no oceano, coberto de vegetação verde e cercado de água. É uma ilha que se eleva acima do mar, com nuvens esbranquiçadas e azuladas compondo o fundo.\n"
     ]
    }
   ],
   "source": [
    "IMAGE_FILE = \"lonely-island-4k-2g.jpg\"\n",
    "image = Image.load_from_file(IMAGE_FILE)\n",
    "\n",
    "generative_multimodal_model = GenerativeModel(\"gemini-1.5-pro-002\")\n",
    "response = generative_multimodal_model.generate_content([\"O que tem na imagem?\", image])\n",
    "print(response.text)"
   ]
  }
 ],
 "metadata": {
  "kernelspec": {
   "display_name": "Python 3 (ipykernel)",
   "language": "python",
   "name": "python3"
  },
  "language_info": {
   "codemirror_mode": {
    "name": "ipython",
    "version": 3
   },
   "file_extension": ".py",
   "mimetype": "text/x-python",
   "name": "python",
   "nbconvert_exporter": "python",
   "pygments_lexer": "ipython3",
   "version": "3.9.18"
  }
 },
 "nbformat": 4,
 "nbformat_minor": 5
}
