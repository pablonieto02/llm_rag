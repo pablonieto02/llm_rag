{
 "cells": [
  {
   "cell_type": "code",
   "execution_count": 4,
   "id": "5824ff95-01a9-4285-a727-460497d3d96c",
   "metadata": {},
   "outputs": [
    {
     "name": "stdout",
     "output_type": "stream",
     "text": [
      "Buckets disponíveis no projeto:\n",
      "estudo-ia-ds-datasets\n"
     ]
    }
   ],
   "source": [
    "import json\n",
    "import faiss\n",
    "import numpy as np\n",
    "import pandas as pd\n",
    "from google.cloud import storage\n",
    "from google.cloud import aiplatform\n",
    "from google.oauth2 import service_account\n",
    "from sentence_transformers import SentenceTransformer\n",
    "from vertexai.preview.generative_models import GenerativeModel\n",
    "\n",
    "# Configurar o cliente do Google Cloud Storage\n",
    "client = storage.Client()\n",
    "\n",
    "# Seleção do Modelo\n",
    "model =  GenerativeModel(\"gemini-1.5-pro-002\")\n",
    "\n",
    "# Listar buckets como exemplo de operação\n",
    "buckets = list(client.list_buckets())\n",
    "\n",
    "print(\"Buckets disponíveis no projeto:\")\n",
    "for bucket in buckets:\n",
    "    print(bucket.name)"
   ]
  },
  {
   "cell_type": "markdown",
   "id": "929d74c7-256e-40be-afed-5b56a20d1b04",
   "metadata": {},
   "source": [
    "# Prepara o banco de dados RAG"
   ]
  },
  {
   "cell_type": "code",
   "execution_count": 5,
   "id": "c5c054f9-4e6e-4bc0-b086-dee61c0a91b4",
   "metadata": {},
   "outputs": [],
   "source": [
    "data = {\n",
    "    \"id\": [1, 2],\n",
    "    \"text\": [\"O Banco BV usa o Catálogo de Dados Openmetadata\", \"O Banco Itaú usa o Catálogo de Dados Attlas\"]\n",
    "}\n",
    "\n",
    "df = pd.DataFrame(data)"
   ]
  },
  {
   "cell_type": "code",
   "execution_count": 6,
   "id": "63a6d7d1-61f8-4e7f-847f-054ec55c951b",
   "metadata": {},
   "outputs": [],
   "source": [
    "# Carregar o modelo pré-treinado\n",
    "encoder = SentenceTransformer('paraphrase-MiniLM-L6-v2')\n",
    "\n",
    "# Gerar embeddings para a coluna 'text'\n",
    "df['embedding'] = df['text'].apply(lambda x: encoder.encode(x).tolist())"
   ]
  },
  {
   "cell_type": "code",
   "execution_count": 8,
   "id": "c3c09b2a-7c27-4c58-897b-b2327432ca23",
   "metadata": {},
   "outputs": [],
   "source": [
    "dados = np.vstack(df['embedding'].values).astype('float32')\n",
    "\n",
    "# Normalizar os vetores para busca por similaridade de cosseno\n",
    "faiss.normalize_L2(dados)\n",
    "\n",
    "# Criar o índice FAISS\n",
    "index = faiss.IndexFlatIP(dados.shape[1])  # IP para Produto Interno (similaridade de cosseno)\n",
    "index.add(dados)  # Adicionar dados ao índice"
   ]
  },
  {
   "cell_type": "markdown",
   "id": "3c7c1a46-5121-4b87-b008-9cbbf7cfb0f4",
   "metadata": {},
   "source": [
    "# Realiza a consulta"
   ]
  },
  {
   "cell_type": "code",
   "execution_count": 9,
   "id": "201e6638-0e96-430b-9e88-437d9724bfc5",
   "metadata": {},
   "outputs": [],
   "source": [
    "def retrieve_information(query, k=1):\n",
    "\n",
    "    string_return = ''\n",
    "    \n",
    "    # Vetor de consulta\n",
    "    consulta = encoder.encode(query).astype('float32').reshape(1, -1)\n",
    "    faiss.normalize_L2(consulta)\n",
    "    \n",
    "    # Realizar a busca\n",
    "    distancias, indices = index.search(consulta.reshape(1, -1), k)  # k é o número de vizinhos mais próximos\n",
    "\n",
    "    # Exibir os textos correspondentes \n",
    "    for idx in indices[0]:\n",
    "        string_return += df.iloc[idx]['text'] + ' \\n'\n",
    "    return string_return\n",
    "\n",
    "def generate_query(query):\n",
    "    retrieved_info = retrieve_information(query)\n",
    "    prompt = f\"{retrieved_info}\\n\\nBaseado na informação acima, responda: {query}\"\n",
    "    return prompt"
   ]
  },
  {
   "cell_type": "code",
   "execution_count": 10,
   "id": "2d101a78-2ce2-4f4f-8310-9ddf4fe03931",
   "metadata": {},
   "outputs": [
    {
     "name": "stdout",
     "output_type": "stream",
     "text": [
      "A informação fornecida diz que o Banco BV *usa* o Catálogo de Dados OpenMetadata. Isso nos diz que eles escolheram essa plataforma específica para gerenciar seus metadados.  No entanto, não nos diz nada *específico* sobre *como* o BV usa o OpenMetadata.\n",
      "\n",
      "Para saber mais sobre o catálogo de dados do BV especificamente, precisaríamos de informações adicionais.  Por exemplo:\n",
      "\n",
      "* **Quais tipos de dados eles catalogam?** (Ex: dados transacionais, dados de clientes, dados de marketing, etc.)\n",
      "* **Como eles integraram o OpenMetadata com seus sistemas existentes?**\n",
      "* **Quais recursos do OpenMetadata eles utilizam mais?** (Ex: linhagem de dados, descoberta de dados, governança de dados, etc.)\n",
      "* **Qual o tamanho e a complexidade do seu catálogo?** (Quantos datasets, tabelas, colunas, etc.)\n",
      "* **Quais os benefícios que eles obtiveram com a implementação do OpenMetadata?** (Ex: melhor descoberta de dados, maior qualidade dos dados, melhor conformidade com regulamentações, etc.)\n",
      "\n",
      "Sem essas informações, só podemos falar sobre as capacidades gerais do OpenMetadata, que é um catálogo de dados de código aberto que ajuda as organizações a entenderem e gerenciarem seus dados. Ele oferece recursos como:\n",
      "\n",
      "* **Descoberta de dados:** Permite aos usuários pesquisar e encontrar dados facilmente.\n",
      "* **Linhagem de dados:** Mostra a origem, o processamento e o destino dos dados.\n",
      "* **Governança de dados:** Permite definir políticas e regras para o uso dos dados.\n",
      "* **Classificação de dados:** Permite categorizar os dados com base em sua sensibilidade e importância.\n",
      "* **Documentação de dados:** Permite adicionar descrições e metadados aos dados.\n",
      "\n",
      "Em resumo, sabemos que o BV usa o OpenMetadata, mas para entender como eles o utilizam e os benefícios que obtêm, precisaríamos de mais detalhes.\n",
      "\n"
     ]
    }
   ],
   "source": [
    "response = model.generate_content(generate_query('Conte-me algo sobre o catálogo de dados do Banco BV'))\n",
    "\n",
    "print(response.text)"
   ]
  }
 ],
 "metadata": {
  "kernelspec": {
   "display_name": "Python 3 (ipykernel)",
   "language": "python",
   "name": "python3"
  },
  "language_info": {
   "codemirror_mode": {
    "name": "ipython",
    "version": 3
   },
   "file_extension": ".py",
   "mimetype": "text/x-python",
   "name": "python",
   "nbconvert_exporter": "python",
   "pygments_lexer": "ipython3",
   "version": "3.9.18"
  }
 },
 "nbformat": 4,
 "nbformat_minor": 5
}
